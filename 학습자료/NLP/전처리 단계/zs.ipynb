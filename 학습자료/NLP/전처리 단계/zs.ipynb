{
 "cells": [
  {
   "cell_type": "code",
   "execution_count": 1,
   "metadata": {},
   "outputs": [
    {
     "data": {
      "text/plain": [
       "'\\n1. Json 등 형식에 맞는 파일 불러오기\\n2. article text를 추출\\n3. stop word 적용\\n4. text rank 핵심 문장으로 요약\\n5. //konply에서 명사만 추출 ex) okt.nouns(string)\\n6. 키워드 추출 (ex: TF-IDF)\\n7. 아니면 핵심 문장간 유사도 비교\\n8. 합당한 문장에서 지명 대조\\n9. 추출한 지명 따로 저장\\n'"
      ]
     },
     "execution_count": 1,
     "metadata": {},
     "output_type": "execute_result"
    }
   ],
   "source": [
    "\"\"\"\n",
    "1. Json 등 형식에 맞는 파일 불러오기\n",
    "2. article text를 추출\n",
    "3. stop word 적용\n",
    "4. text rank 핵심 문장으로 요약\n",
    "5. //konply에서 명사만 추출 ex) okt.nouns(string)\n",
    "6. 키워드 추출 (ex: TF-IDF)\n",
    "7. 아니면 핵심 문장간 유사도 비교\n",
    "8. 합당한 문장에서 지명 대조\n",
    "9. 추출한 지명 따로 저장\n",
    "\"\"\""
   ]
  },
  {
   "cell_type": "code",
   "execution_count": 113,
   "metadata": {},
   "outputs": [
    {
     "name": "stdout",
     "output_type": "stream",
     "text": [
      "데이터 개수 : (1526, 4)\n",
      "1526\n",
      "\n"
     ]
    },
    {
     "data": {
      "text/html": [
       "<div>\n",
       "<style scoped>\n",
       "    .dataframe tbody tr th:only-of-type {\n",
       "        vertical-align: middle;\n",
       "    }\n",
       "\n",
       "    .dataframe tbody tr th {\n",
       "        vertical-align: top;\n",
       "    }\n",
       "\n",
       "    .dataframe thead th {\n",
       "        text-align: right;\n",
       "    }\n",
       "</style>\n",
       "<table border=\"1\" class=\"dataframe\">\n",
       "  <thead>\n",
       "    <tr style=\"text-align: right;\">\n",
       "      <th></th>\n",
       "      <th>date</th>\n",
       "      <th>popular</th>\n",
       "      <th>subject</th>\n",
       "      <th>article</th>\n",
       "    </tr>\n",
       "  </thead>\n",
       "  <tbody>\n",
       "    <tr>\n",
       "      <td>0</td>\n",
       "      <td>20191001</td>\n",
       "      <td>society</td>\n",
       "      <td>前 오피스텔 성매매 업주 한 달 3000만원 벌어 손 뗄 수가 없었다</td>\n",
       "      <td>옆집이 성매매 오피스텔 중 형량은 낮고 돈은 많이 번다“5년간 오피 운영하다 적발 ...</td>\n",
       "    </tr>\n",
       "    <tr>\n",
       "      <td>1</td>\n",
       "      <td>20191001</td>\n",
       "      <td>society</td>\n",
       "      <td>조국 촛불에 깜짝 놀라檢개혁 역사적 대의 위해 모인 것</td>\n",
       "      <td>조국 법무부 장관이 1일 서울 여의도 국회 본회의장에서 열린 제...</td>\n",
       "    </tr>\n",
       "    <tr>\n",
       "      <td>2</td>\n",
       "      <td>20191001</td>\n",
       "      <td>society</td>\n",
       "      <td>단독최성해 정경심 압수수색 사흘전 서류 주지말라 전화</td>\n",
       "      <td>“학교에 검찰 압수수색 나오기 사흘 전쯤 정경심 교수가 나에게 전화해 ‘혹시 압수수...</td>\n",
       "    </tr>\n",
       "    <tr>\n",
       "      <td>3</td>\n",
       "      <td>20191001</td>\n",
       "      <td>society</td>\n",
       "      <td>윤석열 서울중앙지검 등 3개청 외 특수부 전면폐지개혁안 발표</td>\n",
       "      <td>윤석열 검찰총장 © 1 황기선 기자          서울뉴스1 ...</td>\n",
       "    </tr>\n",
       "    <tr>\n",
       "      <td>4</td>\n",
       "      <td>20191001</td>\n",
       "      <td>society</td>\n",
       "      <td>속도 붙은 태풍 미탁오늘부터 제주에 600 물폭탄</td>\n",
       "      <td>제17호 태풍 타파로 강풍이 몰아치는 강원도 안인진 해변 자료사...</td>\n",
       "    </tr>\n",
       "    <tr>\n",
       "      <td>...</td>\n",
       "      <td>...</td>\n",
       "      <td>...</td>\n",
       "      <td>...</td>\n",
       "      <td>...</td>\n",
       "    </tr>\n",
       "    <tr>\n",
       "      <td>1521</td>\n",
       "      <td>20191031</td>\n",
       "      <td>society</td>\n",
       "      <td>서울·경기서 하루 3번 성폭행 시도한 40대 배달업자 체포</td>\n",
       "      <td>서울 중랑경찰서 간판 연합뉴스 제공          서울연합뉴스...</td>\n",
       "    </tr>\n",
       "    <tr>\n",
       "      <td>1522</td>\n",
       "      <td>20191031</td>\n",
       "      <td>society</td>\n",
       "      <td>조국 내사 안 했다고 보기 어렵다 현직 검사 글 논란</td>\n",
       "      <td>앵커         유시민 노무현재단 이사장은 윤석열 검찰총장이 지난 8월 중순 한...</td>\n",
       "    </tr>\n",
       "    <tr>\n",
       "      <td>1523</td>\n",
       "      <td>20191031</td>\n",
       "      <td>society</td>\n",
       "      <td>헬기 아닌 배로 4시간 41분 만에참담한 구조 참사 당시</td>\n",
       "      <td>앵커         군을 헬기가 아닌 배로 병원에 옮기기까지의 순간순간은 특조위가 ...</td>\n",
       "    </tr>\n",
       "    <tr>\n",
       "      <td>1524</td>\n",
       "      <td>20191031</td>\n",
       "      <td>society</td>\n",
       "      <td>흉기 휘둘러 얼굴 다쳤는데사람 잘못 봤네요</td>\n",
       "      <td>뉴스데스크 ◀ 앵커 ▶아이들과 시민들이 몰려있는 대낮 도심 공원에서 30대 여성이 ...</td>\n",
       "    </tr>\n",
       "    <tr>\n",
       "      <td>1525</td>\n",
       "      <td>20191031</td>\n",
       "      <td>society</td>\n",
       "      <td>4호선 열차 흉기난동 용의자 자수 뉴스 보고 결심</td>\n",
       "      <td>앵커달리는 지하철 안에서 한 남성이 갑자기 흉기를 꺼내 승객을 위협하다 달아났다는 ...</td>\n",
       "    </tr>\n",
       "  </tbody>\n",
       "</table>\n",
       "<p>1526 rows × 4 columns</p>\n",
       "</div>"
      ],
      "text/plain": [
       "          date  popular                                 subject  \\\n",
       "0     20191001  society  前 오피스텔 성매매 업주 한 달 3000만원 벌어 손 뗄 수가 없었다   \n",
       "1     20191001  society          조국 촛불에 깜짝 놀라檢개혁 역사적 대의 위해 모인 것   \n",
       "2     20191001  society           단독최성해 정경심 압수수색 사흘전 서류 주지말라 전화   \n",
       "3     20191001  society       윤석열 서울중앙지검 등 3개청 외 특수부 전면폐지개혁안 발표   \n",
       "4     20191001  society             속도 붙은 태풍 미탁오늘부터 제주에 600 물폭탄   \n",
       "...        ...      ...                                     ...   \n",
       "1521  20191031  society        서울·경기서 하루 3번 성폭행 시도한 40대 배달업자 체포   \n",
       "1522  20191031  society           조국 내사 안 했다고 보기 어렵다 현직 검사 글 논란   \n",
       "1523  20191031  society         헬기 아닌 배로 4시간 41분 만에참담한 구조 참사 당시   \n",
       "1524  20191031  society                 흉기 휘둘러 얼굴 다쳤는데사람 잘못 봤네요   \n",
       "1525  20191031  society             4호선 열차 흉기난동 용의자 자수 뉴스 보고 결심   \n",
       "\n",
       "                                                article  \n",
       "0     옆집이 성매매 오피스텔 중 형량은 낮고 돈은 많이 번다“5년간 오피 운영하다 적발 ...  \n",
       "1                조국 법무부 장관이 1일 서울 여의도 국회 본회의장에서 열린 제...  \n",
       "2     “학교에 검찰 압수수색 나오기 사흘 전쯤 정경심 교수가 나에게 전화해 ‘혹시 압수수...  \n",
       "3                윤석열 검찰총장 © 1 황기선 기자          서울뉴스1 ...  \n",
       "4                제17호 태풍 타파로 강풍이 몰아치는 강원도 안인진 해변 자료사...  \n",
       "...                                                 ...  \n",
       "1521             서울 중랑경찰서 간판 연합뉴스 제공          서울연합뉴스...  \n",
       "1522  앵커         유시민 노무현재단 이사장은 윤석열 검찰총장이 지난 8월 중순 한...  \n",
       "1523  앵커         군을 헬기가 아닌 배로 병원에 옮기기까지의 순간순간은 특조위가 ...  \n",
       "1524  뉴스데스크 ◀ 앵커 ▶아이들과 시민들이 몰려있는 대낮 도심 공원에서 30대 여성이 ...  \n",
       "1525  앵커달리는 지하철 안에서 한 남성이 갑자기 흉기를 꺼내 승객을 위협하다 달아났다는 ...  \n",
       "\n",
       "[1526 rows x 4 columns]"
      ]
     },
     "execution_count": 113,
     "metadata": {},
     "output_type": "execute_result"
    }
   ],
   "source": [
    "# 1. csv file 불러오기\n",
    "import pandas as pd\n",
    "csv_data = pd.read_csv('201910article.csv', delimiter=',', encoding='UTF-8')\n",
    "\n",
    "# 행렬 개수 확인\n",
    "print(\"데이터 개수 :\",csv_data.shape)\n",
    "print(csv_data.shape[0])\n",
    "print()\n",
    "\n",
    "csv_data"
   ]
  },
  {
   "cell_type": "code",
   "execution_count": 144,
   "metadata": {},
   "outputs": [
    {
     "name": "stdout",
     "output_type": "stream",
     "text": [
      "0    옆집이 성매매 오피스텔 중 형량은 낮고 돈은 많이 번다“5년간 오피 운영하다 적발 ...\n",
      "1               조국 법무부 장관이 1일 서울 여의도 국회 본회의장에서 열린 제...\n",
      "2    “학교에 검찰 압수수색 나오기 사흘 전쯤 정경심 교수가 나에게 전화해 ‘혹시 압수수...\n",
      "3               윤석열 검찰총장 © 1 황기선 기자          서울뉴스1 ...\n",
      "4               제17호 태풍 타파로 강풍이 몰아치는 강원도 안인진 해변 자료사...\n",
      "5               【서울뉴시스】 전진환 기자  윤석열 검찰총장이 지난달 30일 오...\n",
      "6    황교안  자유한국당 대표 투쟁은 문희상 의장 민주당 또 그 2중대 3중대의 불법적 ...\n",
      "7               사진순천경찰서          전남 순천 한 종합병원에서 몰래카...\n",
      "8    경향신문 ㆍ“대통령에 대한 압박이자 인사권에 정면 도전” 비판ㆍ“이 정도 됐으면 물...\n",
      "9               서울 서초구 대검찰청 2019101뉴스1 © 1 구윤성 기자  ...\n",
      "Name: article, dtype: object\n"
     ]
    },
    {
     "data": {
      "text/plain": [
       "'옆집이 성매매 오피스텔 중 형량은 낮고 돈은 많이 번다“5년간 오피 운영하다 적발 3개월만 범죄 인정… 추징금 전두환도 안 내700만원 받고 성매매 알선 컨설팅… 마사지업소 할 땐 月700만원 경찰 상납”           경찰이 성매매 오피스텔 단속 현장에서 촬영한 화장실 수건 등의 모습 화장실의 조명이 붉은 색인 것이 눈에 띈다 이혜미 기자          “오피성매매 오피스텔 할 때 한 달에 3000만원순익기준 정도 벌었죠 하루에 90만100만원 정도요 하루 일 끝나면 애들피고용인들이 집에 찾아와서 냉장고에다가 현금을 넣어놓고 갔어요 이 업포주을 하는 사람 중에 스스로 그만두는 사람은 없어요 10명 중 한 명 정도라고 해야 하나 단속 걸려서 어쩔 수 없이 그만 두는 경우죠”2010년부터 성매매 알선업을 해온 40대 이필성가명씨 그의 사건을 맡았었던 법조계 인사의 소개로 어렵게 만날 수 있었다 그는 한 달에 최고 7000만원을 벌었던 적도 있다고 말했다 이씨는 수 차례 단속에 걸렸지만 수익이 막대한 성매매 업주를 언제든 다시 하고 싶다는 생각을 숨기지 않았다 형량은 턱없이 낮고 추징은 미미하며 그만큼 수익은 높기 때문이다 성매매가 여전히 성업을 이루는 근본 원인을 확인할 수 있는 대목이다 그는 총 56차례 단속에 걸렸다고 한다 스스로 다 기억하지 못할 정도다 몇 번 적발됐는지 묻자 손가락을 꼽으며 기억을 더듬었다 “처음 걸렸을 때 벌금 150만원 그 다음에 벌금 350만원 또 200만원…” 징역형을 실제로 산 것은 마지막 적발됐을 때 단 1년 그 이전에는 세차례 벌금 이어 집행유예였다 “립카페 건마건전마사지를 하다가 오피를 45년 했어요 오피 여러 개를 운영했죠 오피로 잡혔을 때 3개월 했다고 진술했고 3개월만 인정 받았죠 그 기간만 했다고 진술하면 경찰도 방법이 없죠” 모두 현금 거래이고 현장 적발이 아니면 성매매는 입증이 어렵기 때문이다 “경찰이 집에 찾아와서 체포해서 갈 때 압수수색도 안 해요 어차피 현금 발견해봐야 증명 안되고 ‘제 돈인데요’ 하면 그만이니까요” 그는 3개월 범죄에 대한 추징금으로 5000만원 가량 선고 받았다 지금 억대 현금을 가지고 있지만 추징금을 내지 않고 있다 성매매 알선업으로 돈을 벌면 현금 다발로 가족에게 가져다 주었는데 그러고도 남은 돈이다 집도 가족 명의로 돼 있다 “추징금 내는 사람 못 봤어요 전두환도 안내잖아요”라고 당당하게 말했다 덧붙이기는 했다 “물론 추징금이 상대적으로 액수가 적은 1000만1500만원 정도면 내죠 1000만원 이상 되면 해외에 못나가기 때문에 저도 언젠가 내긴 내야죠” 그는 1년 징역형을 살았을 때 교도소 생활이 힘들었다고 했다 다시는 잡히고 싶지 않다고 하지만 성매매업은 다시 하고 싶단다 “그때 바지바지사장를 너무 어린 사람을 썼어요 걸리면 대신 혐의를 떠안을 각오가 돼 있는 확실한 바지가 있어야죠 저 다시 걸리면 이제 1년6개월은 살아야 할 걸요” 바지사장과는 수익금을 나누는 식으로 동업하지만 신상은 서로에게도 공개하지 않을 정도다 “이름도 물어보지 않아요 알 필요도 없고요” 교도소 생활을 꺼리는 이씨를 보면 성매매 알선의 형량을 높이는 것이 확실히 범죄 억제효과가 있음을 알 수 있었다 이씨는 혐의에 따른 형량을 줄줄 꿰고 있었다 “성매매 여성으로 미성년자를 고용하면 2년6개월은 살아야 해요 강제로 시키면 5년 이상이에요” 그는 미성년자 고용은 안 되고 외국인여성이라면 ‘오버비자만기를 넘긴 비자’ 안되고 또 여성들에게 욕은 하더라도 때리지는 않는다는 불문율을 가지고 있다고 말했다 현재 그는 성매매 알선업에 뛰어들려는 사람들에게 일종의 ‘창업 컨설팅’을 해 주면서 건당 700만원을 받는다 “외국 여성 구할 수 있는 에이전시 장소 제공하는 부동산 이런 데를 제가 아니까 시작할 수 있게 ‘메이드’ 해주는 거죠” 이 역시 불법 아닌가 “성매매 방조 이런 건데요 그걸로 걸린 사람은 한 명도 없어요 걸려도 벌금형뿐일 걸요”이씨는 지금 직접 성매매업을 하고 있지는 않지만 ‘그 바닥’ 정보는 상당했다 단속이 강화돼서 성매수남을 유치할 때 인터넷보다 데이터베이스를 많이 쓴다고 했다 20003000개의 대리운전 콜번호를 모은다 “직장인들이 콜로 대리기사들을 부르잖아요 차 있고 술 마시고 직장 다니는 남자라는 건데 대리 콜 를 사서 문자 보내고 하는 거죠” 그는 성매매 여성들 품평에도 거리낌이 없었다 “러시아 여성은 관리가 편하죠 한국 여성은 출퇴근하기 때문에 관리가 좀 어렵고요 돈은 한국 여성에게 더 많이 줘야 해요 러시아 여성과의 성매매는 호기심이 크게 작용한 거라서 지금은 거의 ‘끝물’이라고 보면 되고요 그래서 러시아 여성 성매매는 서울지역을 벗어나서 점차 아래로 내려가고 있어요 그 여성들도 서울 벗어나기를 싫어해요”그는 돈을 많이 버는 만큼 주변 관리를 위해 아낌없이 써야 한다고 말했다 “길 가다가 아는 얼굴이 보이면 무조건 ‘한잔 하자’고 데리고 가야 해요 그렇게 자기 사람들을 만드는 거죠” 성매매 업주들은 경쟁 업주를 경찰에 신고하기도 하는 것으로 알려져 있다 그렇기 때문에 ‘자기 사람 만들기’가 중요하다 이씨에게 경찰과의 유착에 대해 물었다 “개수는 오피가 가장 많지만 돈은 안마ㆍ스파 순으로 많이 벌어요 강남에 78층짜리 안마하는 업소는 다 조폭을 끼고 한다고 보면 되고요 경찰이 뒤를 봐주기 때문에 절대 안 털리죠” 그도 과거 ‘립’ ‘건마’ 업소를 운영할 때 성매매 단속 정보를 제공받는 조건으로 경찰에 한 달에 700만원을 줬다고 말했다 “2010년대 초반에 서울경찰청과 관할서에 둘 다 줬으니까 한 명당 월 200만300만원씩을 줬던 거죠” 1년에 많으면 5번 정도의 단속이 있는데 당일이나 전날 ‘오늘내일 조심’ 문자가 왔다 정확도는 어느 정도일까 “999”라는게 그의 답이다 그날 단속반이 왔을 때 아예 문을 닫으면 오히려 의심 사니까 “가게 내놓아서 아무도 없다”고 둘러대면 됐다고 했다 1년에 겨우 몇 차례 문자를 받으면서 매달 700만원을 상납하는 게 아깝지 않았을까 “아니요 문자가 안 오면 오히려 좋아요”라는 게 그의 답이다 문자가 없다는 것은 단속이 없다는 뜻이니만큼 적발될 걱정 없이 성매매업을 할 수 있기 때문이다 돈으로 매수해 놓은 곳에서가 아니라 여러 경찰이 합동수사로 단속을 나오는 때도 드물게 있는데 그 경우는 어쩔 수 없다고 했다 이씨가 이전에 적발됐던 것도 그런 경우였던 것으로 추정되는 대목이다 이씨는 또 “오피는 사업자 등록을 하지 않아 관할이 정해져 있지 않고 어느 경찰서에서 들어올지 모르기 때문에 경찰과 유착이 없다”고 말했다 그가 과거 월 수백만 원을 줬던 경찰은 누구일까 “시작할 때 한 번 만나고 중간에 다른 사람 내세워서 만난다”며 “대부분 전직 경찰”이라고 말했다 전직 경찰이 브로커 역할을 한다고 해도 단속 정보를 주는 사람은 현직 경찰일 수밖에 없다 그는 전ㆍ현 경찰의 신원에 대해서는 끝내 함구했다이진희 기자'"
      ]
     },
     "execution_count": 144,
     "metadata": {},
     "output_type": "execute_result"
    }
   ],
   "source": [
    "article_list = csv_data.article\n",
    "print(article_list[:10])\n",
    "\n",
    "article_list[0].strip()"
   ]
  },
  {
   "cell_type": "code",
   "execution_count": 150,
   "metadata": {},
   "outputs": [
    {
     "name": "stdout",
     "output_type": "stream",
     "text": [
      "특수문자 제거 sentence[1]\n",
      "조국 법무부 장관이 1일 서울 여의도 국회 본회의장에서 열린 제371회국회정기회 제5차 본회의에서 교육·사회·문화 분야 대정부 질의에 답변하고 있다 2019101뉴스1 © 1 임세영 기자          서울뉴스1 윤다정 기자전형민 기자  조국 수호와 검찰개혁을 주장하는 시민들이 서초동에서 대규모 촛불집회를 연 가운데 조국 법무부 장관은 깜짝 놀랐다며 검찰개혁이라는 시대적 과제 역사적 대의를 위해 모인 게 아닌가 생각한다고 말했다조 장관은 1일 국회 대정부질문에 참석해 촛불 시민들이 저 개인을 위해 나섰다고는 생각하지 않는다며 이같이 밝혔다그러면서 저의 부족함이나 불찰 때문에 시민들께서 많은 실망감을 가지셨을텐데 국민들께서 저를 꾸짖으시면서도 서초동에 모여 촛불을 드셨다는 소회도 함께 언급했다조 장관은 전날30일 정부과천청사에서 열린 제2기 법무·검찰 개혁위원회 발족식에 참석한 자리에서도 국민들의 검찰개혁에 대한 열망은 헌정 역사상 가장 뜨겁다며 지난 토요일 수많은 국민이 검찰개혁을 요구하며 광장에 모여 촛불을 들었다고도 언급했었다또한 검찰 권력은 강력한 힘을 갖고 있으면서도 제도적 통제 장치를 갖고 있지 않다며 누구도 함부로 되돌릴 수 없는 검찰개혁 방안을 국민의 눈높이에서 마련하고 실행할 수 있도록 힘을 모아 주시라고 요청했다1\n",
      "\n"
     ]
    }
   ],
   "source": [
    "# 3_1. 특수문자 제거\n",
    "\n",
    "# 소문자 변환\n",
    "# re 라이브러리로 특수문자 제거\n",
    "\n",
    "# 읽어온 데이터 확인 (json_body)\n",
    "\n",
    "\n",
    "sentence = []\n",
    "\n",
    "# 특수문자 제거 라이브러리\n",
    "import re\n",
    "for a in range(len(article_list)):\n",
    "    sentence.append(article_list[a].strip())\n",
    "    \n",
    "for i in range(len(sentence)):\n",
    "    sentence[i] = sentence[i].lower() # lower() : 모든 문자를 소문자로 변환\n",
    "    sentence[i] = re.sub(\"(<br\\s*/><br\\s*/>)|(\\-)|(\\/)\", ' ', sentence[i]) # 특수문자 제거\n",
    "    sentence[i] = re.sub(\"[.;:!\\'?,\\\"()|[\\]]\", ' ', sentence[i]) # 특수문자 제거\n",
    "\n",
    "print(\"특수문자 제거 sentence[1]\")\n",
    "print(sentence[1])\n",
    "print()"
   ]
  },
  {
   "cell_type": "code",
   "execution_count": 151,
   "metadata": {},
   "outputs": [],
   "source": [
    "# 3_2. 외부 Stop Word 리스트 불러오기 (stop word ranking 기반) \n",
    "\n",
    "# 불용어 처리 - stop_word 리스트 불러오기 & 전처리\n",
    "stop_words = []\n",
    "f = open(\"C:\\Python\\source\\stop_word.txt\", 'r', encoding='UTF-8')\n",
    "while True:\n",
    "    line = f.readline()\n",
    "    if not line: break\n",
    "    #print(line) #정상 출력 확인\n",
    "    stop_words.append(line.rstrip('\\n')) # 개행문자 제거 후 추가\n",
    "f.close()\n",
    "\n",
    "# 불러온 stop word 리스트 출력\n",
    "#print(stop_words) "
   ]
  },
  {
   "cell_type": "code",
   "execution_count": 157,
   "metadata": {},
   "outputs": [
    {
     "name": "stdout",
     "output_type": "stream",
     "text": [
      "stop word 필터링 결과 (result)\n",
      "['옆집이 성매매 오피스텔 중 형량은 낮고 돈은 많이 번다“5년간 오피 운영하다 적발 3개월만 범죄 인정… 추징금 전두환도 안 내700만원 받고 성매매 알선 컨설팅… 마사지업소 할 땐 月700만원 경찰 상납”           경찰이 성매매 오피스텔 단속 현장에서 촬영한 화장실 수건 등의 모습 화장실의 조명이 붉은 색인 것이 눈에 띈다 이혜미 기자          “오피성매매 오피스텔 할 때 한 달에 3000만원순익기준 정도 벌었죠 하루에 90만100만원 정도요 하루 일 끝나면 애들피고용인들이 집에 찾아와서 냉장고에다가 현금을 넣어놓고 갔어요 이 업포주을 하는 사람 중에 스스로 그만두는 사람은 없어요 10명 중 한 명 정도라고 해야 하나 단속 걸려서 어쩔 수 없이 그만 두는 경우죠”2010년부터 성매매 알선업을 해온 40대 이필성가명씨 그의 사건을 맡았었던 법조계 인사의 소개로 어렵게 만날 수 있었다 그는 한 달에 최고 7000만원을 벌었던 적도 있다고 말했다 이씨는 수 차례 단속에 걸렸지만 수익이 막대한 성매매 업주를 언제든 다시 하고 싶다는 생각을 숨기지 않았다 형량은 턱없이 낮고 추징은 미미하며 그만큼 수익은 높기 때문이다 성매매가 여전히 성업을 이루는 근본 원인을 확인할 수 있는 대목이다 그는 총 56차례 단속에 걸렸다고 한다 스스로 다 기억하지 못할 정도다 몇 번 적발됐는지 묻자 손가락을 꼽으며 기억을 더듬었다 “처음 걸렸을 때 벌금 150만원 그 다음에 벌금 350만원 또 200만원…” 징역형을 실제로 산 것은 마지막 적발됐을 때 단 1년 그 이전에는 세차례 벌금 이어 집행유예였다 “립카페 건마건전마사지를 하다가 오피를 45년 했어요 오피 여러 개를 운영했죠 오피로 잡혔을 때 3개월 했다고 진술했고 3개월만 인정 받았죠 그 기간만 했다고 진술하면 경찰도 방법이 없죠” 모두 현금 거래이고 현장 적발이 아니면 성매매는 입증이 어렵기 때문이다 “경찰이 집에 찾아와서 체포해서 갈 때 압수수색도 안 해요 어차피 현금 발견해봐야 증명 안되고 ‘제 돈인데요’ 하면 그만이니까요” 그는 3개월 범죄에 대한 추징금으로 5000만원 가량 선고 받았다 지금 억대 현금을 가지고 있지만 추징금을 내지 않고 있다 성매매 알선업으로 돈을 벌면 현금 다발로 가족에게 가져다 주었는데 그러고도 남은 돈이다 집도 가족 명의로 돼 있다 “추징금 내는 사람 못 봤어요 전두환도 안내잖아요”라고 당당하게 말했다 덧붙이기는 했다 “물론 추징금이 상대적으로 액수가 적은 1000만1500만원 정도면 내죠 1000만원 이상 되면 해외에 못나가기 때문에 저도 언젠가 내긴 내야죠” 그는 1년 징역형을 살았을 때 교도소 생활이 힘들었다고 했다 다시는 잡히고 싶지 않다고 하지만 성매매업은 다시 하고 싶단다 “그때 바지바지사장를 너무 어린 사람을 썼어요 걸리면 대신 혐의를 떠안을 각오가 돼 있는 확실한 바지가 있어야죠 저 다시 걸리면 이제 1년6개월은 살아야 할 걸요” 바지사장과는 수익금을 나누는 식으로 동업하지만 신상은 서로에게도 공개하지 않을 정도다 “이름도 물어보지 않아요 알 필요도 없고요” 교도소 생활을 꺼리는 이씨를 보면 성매매 알선의 형량을 높이는 것이 확실히 범죄 억제효과가 있음을 알 수 있었다 이씨는 혐의에 따른 형량을 줄줄 꿰고 있었다 “성매매 여성으로 미성년자를 고용하면 2년6개월은 살아야 해요 강제로 시키면 5년 이상이에요” 그는 미성년자 고용은 안 되고 외국인여성이라면 ‘오버비자만기를 넘긴 비자’ 안되고 또 여성들에게 욕은 하더라도 때리지는 않는다는 불문율을 가지고 있다고 말했다 현재 그는 성매매 알선업에 뛰어들려는 사람들에게 일종의 ‘창업 컨설팅’을 해 주면서 건당 700만원을 받는다 “외국 여성 구할 수 있는 에이전시 장소 제공하는 부동산 이런 데를 제가 아니까 시작할 수 있게 ‘메이드’ 해주는 거죠” 이 역시 불법 아닌가 “성매매 방조 이런 건데요 그걸로 걸린 사람은 한 명도 없어요 걸려도 벌금형뿐일 걸요”이씨는 지금 직접 성매매업을 하고 있지는 않지만 ‘그 바닥’ 정보는 상당했다 단속이 강화돼서 성매수남을 유치할 때 인터넷보다 데이터베이스를 많이 쓴다고 했다 20003000개의 대리운전 콜번호를 모은다 “직장인들이 콜로 대리기사들을 부르잖아요 차 있고 술 마시고 직장 다니는 남자라는 건데 대리 콜 를 사서 문자 보내고 하는 거죠” 그는 성매매 여성들 품평에도 거리낌이 없었다 “러시아 여성은 관리가 편하죠 한국 여성은 출퇴근하기 때문에 관리가 좀 어렵고요 돈은 한국 여성에게 더 많이 줘야 해요 러시아 여성과의 성매매는 호기심이 크게 작용한 거라서 지금은 거의 ‘끝물’이라고 보면 되고요 그래서 러시아 여성 성매매는 서울지역을 벗어나서 점차 아래로 내려가고 있어요 그 여성들도 서울 벗어나기를 싫어해요”그는 돈을 많이 버는 만큼 주변 관리를 위해 아낌없이 써야 한다고 말했다 “길 가다가 아는 얼굴이 보이면 무조건 ‘한잔 하자’고 데리고 가야 해요 그렇게 자기 사람들을 만드는 거죠” 성매매 업주들은 경쟁 업주를 경찰에 신고하기도 하는 것으로 알려져 있다 그렇기 때문에 ‘자기 사람 만들기’가 중요하다 이씨에게 경찰과의 유착에 대해 물었다 “개수는 오피가 가장 많지만 돈은 안마ㆍ스파 순으로 많이 벌어요 강남에 78층짜리 안마하는 업소는 다 조폭을 끼고 한다고 보면 되고요 경찰이 뒤를 봐주기 때문에 절대 안 털리죠” 그도 과거 ‘립’ ‘건마’ 업소를 운영할 때 성매매 단속 정보를 제공받는 조건으로 경찰에 한 달에 700만원을 줬다고 말했다 “2010년대 초반에 서울경찰청과 관할서에 둘 다 줬으니까 한 명당 월 200만300만원씩을 줬던 거죠” 1년에 많으면 5번 정도의 단속이 있는데 당일이나 전날 ‘오늘내일 조심’ 문자가 왔다 정확도는 어느 정도일까 “999”라는게 그의 답이다 그날 단속반이 왔을 때 아예 문을 닫으면 오히려 의심 사니까 “가게 내놓아서 아무도 없다”고 둘러대면 됐다고 했다 1년에 겨우 몇 차례 문자를 받으면서 매달 700만원을 상납하는 게 아깝지 않았을까 “아니요 문자가 안 오면 오히려 좋아요”라는 게 그의 답이다 문자가 없다는 것은 단속이 없다는 뜻이니만큼 적발될 걱정 없이 성매매업을 할 수 있기 때문이다 돈으로 매수해 놓은 곳에서가 아니라 여러 경찰이 합동수사로 단속을 나오는 때도 드물게 있는데 그 경우는 어쩔 수 없다고 했다 이씨가 이전에 적발됐던 것도 그런 경우였던 것으로 추정되는 대목이다 이씨는 또 “오피는 사업자 등록을 하지 않아 관할이 정해져 있지 않고 어느 경찰서에서 들어올지 모르기 때문에 경찰과 유착이 없다”고 말했다 그가 과거 월 수백만 원을 줬던 경찰은 누구일까 “시작할 때 한 번 만나고 중간에 다른 사람 내세워서 만난다”며 “대부분 전직 경찰”이라고 말했다 전직 경찰이 브로커 역할을 한다고 해도 단속 정보를 주는 사람은 현직 경찰일 수밖에 없다 그는 전ㆍ현 경찰의 신원에 대해서는 끝내 함구했다이진희 기자', '조국 법무부 장관이 1일 서울 여의도 국회 본회의장에서 열린 제371회국회정기회 제5차 본회의에서 교육·사회·문화 분야 대정부 질의에 답변하고 있다 2019101뉴스1 © 1 임세영 기자          서울뉴스1 윤다정 기자전형민 기자  조국 수호와 검찰개혁을 주장하는 시민들이 서초동에서 대규모 촛불집회를 연 가운데 조국 법무부 장관은 깜짝 놀랐다며 검찰개혁이라는 시대적 과제 역사적 대의를 위해 모인 게 아닌가 생각한다고 말했다조 장관은 1일 국회 대정부질문에 참석해 촛불 시민들이 저 개인을 위해 나섰다고는 생각하지 않는다며 이같이 밝혔다그러면서 저의 부족함이나 불찰 때문에 시민들께서 많은 실망감을 가지셨을텐데 국민들께서 저를 꾸짖으시면서도 서초동에 모여 촛불을 드셨다는 소회도 함께 언급했다조 장관은 전날30일 정부과천청사에서 열린 제2기 법무·검찰 개혁위원회 발족식에 참석한 자리에서도 국민들의 검찰개혁에 대한 열망은 헌정 역사상 가장 뜨겁다며 지난 토요일 수많은 국민이 검찰개혁을 요구하며 광장에 모여 촛불을 들었다고도 언급했었다또한 검찰 권력은 강력한 힘을 갖고 있으면서도 제도적 통제 장치를 갖고 있지 않다며 누구도 함부로 되돌릴 수 없는 검찰개혁 방안을 국민의 눈높이에서 마련하고 실행할 수 있도록 힘을 모아 주시라고 요청했다1']\n",
      "\n"
     ]
    }
   ],
   "source": [
    "# 3_3. 불러온 Stop Word 적용  \n",
    "from nltk.corpus import stopwords \n",
    "from nltk.tokenize import word_tokenize \n",
    "\n",
    "result = [] \n",
    "for w in sentence: \n",
    "    if w not in stop_words: \n",
    "        result.append(w) \n",
    "# 위의 4줄은 아래의 한 줄로 대체 가능\n",
    "# result=[word for word in word_tokens if not word in stop_words]\n",
    "\n",
    "# 불용어 처리 결과 출력\n",
    "print(\"stop word 필터링 결과 (result)\")\n",
    "print(result[:2])\n",
    "print()"
   ]
  },
  {
   "cell_type": "code",
   "execution_count": 161,
   "metadata": {},
   "outputs": [
    {
     "ename": "TypeError",
     "evalue": "list indices must be integers or slices, not str",
     "output_type": "error",
     "traceback": [
      "\u001b[1;31m---------------------------------------------------------------------------\u001b[0m",
      "\u001b[1;31mTypeError\u001b[0m                                 Traceback (most recent call last)",
      "\u001b[1;32m<ipython-input-161-98f51306f1b6>\u001b[0m in \u001b[0;36m<module>\u001b[1;34m\u001b[0m\n\u001b[0;32m     13\u001b[0m \u001b[1;31m# sentence[]별 명사만 추출하기 (텍스트만 받음)\u001b[0m\u001b[1;33m\u001b[0m\u001b[1;33m\u001b[0m\u001b[1;33m\u001b[0m\u001b[0m\n\u001b[0;32m     14\u001b[0m \u001b[1;32mfor\u001b[0m \u001b[0mi\u001b[0m \u001b[1;32min\u001b[0m \u001b[0mresult\u001b[0m\u001b[1;33m:\u001b[0m\u001b[1;33m\u001b[0m\u001b[1;33m\u001b[0m\u001b[0m\n\u001b[1;32m---> 15\u001b[1;33m     \u001b[0mstrr\u001b[0m \u001b[1;33m=\u001b[0m \u001b[1;34m''\u001b[0m\u001b[1;33m.\u001b[0m\u001b[0mjoin\u001b[0m\u001b[1;33m(\u001b[0m\u001b[0mresult\u001b[0m\u001b[1;33m[\u001b[0m\u001b[0mi\u001b[0m\u001b[1;33m]\u001b[0m\u001b[1;33m)\u001b[0m\u001b[1;33m\u001b[0m\u001b[1;33m\u001b[0m\u001b[0m\n\u001b[0m\u001b[0;32m     16\u001b[0m     \u001b[0mnouns\u001b[0m \u001b[1;33m=\u001b[0m \u001b[0mokt\u001b[0m\u001b[1;33m.\u001b[0m\u001b[0mnouns\u001b[0m\u001b[1;33m(\u001b[0m\u001b[0mstrr\u001b[0m\u001b[1;33m)\u001b[0m\u001b[1;33m\u001b[0m\u001b[1;33m\u001b[0m\u001b[0m\n\u001b[0;32m     17\u001b[0m     \u001b[1;32mfor\u001b[0m \u001b[0mj\u001b[0m \u001b[1;32min\u001b[0m \u001b[0mnouns\u001b[0m\u001b[1;33m:\u001b[0m\u001b[1;33m\u001b[0m\u001b[1;33m\u001b[0m\u001b[0m\n",
      "\u001b[1;31mTypeError\u001b[0m: list indices must be integers or slices, not str"
     ]
    }
   ],
   "source": [
    "# 4. Text Rank로 문장 요약하기\n",
    "# 참고 링크 : https://github.com/wnsgml972/TextRank-Doc-Summary\n",
    "\n",
    "# 5. Konlpy 추가, Okt 사용, 명사만 추출 (전처리 과정)\n",
    "from konlpy.tag import Okt\n",
    "okt = Okt()\n",
    "nouns = []\n",
    "noun_article_list = []\n",
    "# 명사 추출에 집어넣기 좋게 텍스트로 변환\n",
    "#strr = ''.join(result)\n",
    "\n",
    " \n",
    "# sentence[]별 명사만 추출하기 (텍스트만 받음)\n",
    "for i in result:\n",
    "    strr = ''.join(result[i])\n",
    "    nouns = okt.nouns(strr)\n",
    "    for j in nouns:\n",
    "        noun_article_list[i].append(nouns[j])\n",
    "\n",
    "print(\"noun_article_list[0]\")\n",
    "print(noun_article_list[0])"
   ]
  },
  {
   "cell_type": "code",
   "execution_count": 162,
   "metadata": {},
   "outputs": [
    {
     "name": "stdout",
     "output_type": "stream",
     "text": [
      "(1526, 124781)\n"
     ]
    }
   ],
   "source": [
    "# 6 TF-IDF 모델 생성 및 그래프 생성\n",
    "#!pip install sklearn\n",
    "#!pip install scikit-learn\n",
    "#!pip install scipy\n",
    "from sklearn.feature_extraction.text import TfidfVectorizer\n",
    "X = result\n",
    "tfidf_vectorizer = TfidfVectorizer(stop_words='english')\n",
    "tfidf_matrix = tfidf_vectorizer.fit_transform(X)\n",
    "\n",
    "print(tfidf_matrix.shape)"
   ]
  },
  {
   "cell_type": "code",
   "execution_count": 163,
   "metadata": {},
   "outputs": [
    {
     "name": "stdout",
     "output_type": "stream",
     "text": [
      "유사도 분석을 위한 3x3 matrix를 만들었습니다.\n",
      "[[1.         0.62111188 0.2554899 ]\n",
      " [0.62111188 1.         0.51770886]\n",
      " [0.2554899  0.51770886 1.        ]]\n"
     ]
    }
   ],
   "source": [
    "# 6 TF-IDF 모델 (유사도 분석)\n",
    "from sklearn.feature_extraction.text import TfidfVectorizer\n",
    " \n",
    "mydoclist = ['find what you love', 'do what you love', \"don't do what you hate\"]\n",
    " \n",
    "tfidf_vectorizer = TfidfVectorizer(min_df=1)\n",
    "tfidf_matrix = tfidf_vectorizer.fit_transform(mydoclist)\n",
    " \n",
    "document_distances = (tfidf_matrix * tfidf_matrix.T)\n",
    " \n",
    "print ('유사도 분석을 위한 ' + str(document_distances.get_shape()[0]) + 'x' + str(document_distances.get_shape()[1]) + ' matrix를 만들었습니다.')\n",
    " \n",
    "print(document_distances.toarray())"
   ]
  },
  {
   "cell_type": "code",
   "execution_count": 17,
   "metadata": {},
   "outputs": [],
   "source": [
    "# 6_2 TextRank 알고리즘 적용\n",
    "class Rank(object):\n",
    "    def get_ranks(self, graph, d=0.85): \n",
    "        A = graph\n",
    "        matrix_size = A.shape[0]\n",
    "        for id in range(matrix_size):\n",
    "            A[id, id] = 0 \n",
    "            link_sum = np.sum(A[:,id])\n",
    "            if link_sum != 0:\n",
    "                A[:, id] /= link_sum\n",
    "            A[:, id] *= -d\n",
    "            A[id, id] = 1\n",
    "        B = (1-d) * np.ones((matrix_size, 1))\n",
    "        ranks = np.linalg.solve(A, B) \n",
    "        return {idx: r[0] for idx, r in enumerate(ranks)}"
   ]
  },
  {
   "cell_type": "code",
   "execution_count": 18,
   "metadata": {},
   "outputs": [],
   "source": [
    "# 6_3 TextRank Class 구현\n",
    "class TextRank(object):\n",
    "    def __init__(self, text):\n",
    "        \n",
    "        print(\"text\")\n",
    "        print(text)\n",
    "        self.sent_tokenize = SentenceTokenizer()\n",
    "        \n",
    "        self.sentences = self.sent_tokenize.text2sentences(text)\n",
    "        print(\"sentences\")\n",
    "        print(self.sentences)\n",
    "        self.nouns = self.sent_tokenize.get_nouns(text)\n",
    "        \n",
    "        self.graph_matrix = GraphMatrix()\n",
    "        self.sent_graph = self.graph_matrix.build_sent_graph(self.nouns)\n",
    "        self.words_graph, self.idx2word = self.graph_matrix.build_words_graph(self.nouns)\n",
    "\n",
    "        self.rank = Rank()\n",
    "        self.sent_rank_idx = self.rank.get_ranks(self.sent_graph)\n",
    "        self.sorted_sent_rank_idx = sorted(self.sent_rank_idx, key=lambda k: self.sent_rank_idx[k], reverse=True)\n",
    "\n",
    "        self.word_rank_idx = self.rank.get_ranks(self.words_graph)\n",
    "        self.sorted_word_rank_idx = sorted(self.word_rank_idx, key=lambda k: self.word_rank_idx[k], reverse=True)\n",
    "    \n",
    "    def summarize(self, sent_num=3):\n",
    "        summary = []\n",
    "        index=[]\n",
    "        for idx in self.sorted_sent_rank_idx[:sent_num]:\n",
    "            index.append(idx)\n",
    "        index.sort()\n",
    "\n",
    "        for idx in index:\n",
    "            summary.append(self.sentences[idx])\n",
    "        return summary\n",
    "\n",
    "    def keywords(self, word_num=10):\n",
    "        rank = Rank()\n",
    "        rank_idx = rank.get_ranks(self.words_graph)\n",
    "        sorted_rank_idx = sorted(rank_idx, key=lambda k: rank_idx[k], reverse=True)\n",
    "\n",
    "        keywords = []\n",
    "        index=[]\n",
    "        \n",
    "        for idx in sorted_rank_idx[:word_num]:\n",
    "            index.append(idx)\n",
    "\n",
    "        #index.sort()\n",
    "        for idx in index:\n",
    "            keywords.append(self.idx2word[idx])\n",
    "\n",
    "        return keywords\n",
    "\n",
    "\n",
    "\n",
    "    "
   ]
  },
  {
   "cell_type": "code",
   "execution_count": 26,
   "metadata": {},
   "outputs": [
    {
     "name": "stdout",
     "output_type": "stream",
     "text": [
      "[일요서울｜파주 강동기 기자] 파주시는 아프리카돼지열병으로 인해 다수의 가을 축제와 행사가 취소돼 지역경제가 유례없는 침체기를 겪는 상황에서 소상공인들의 경영난 극복을 위해 다양한 지원책을 이끌어 내고 있다.15일 파주시는 대규모 점포인 ㈜신세계사이먼과 협약 체결을 통해 소상공인들을 위한 1억 원의 특례보증 출연금을 이끌어내어 대규모 점포와 지역 내 중소 상인과의 상생발전을 위한 토대를 마련했다. 협약과 동시에 담보능력이 없어 창업에 어려움을 겪거나 경영난을 겪고 있는 소상공인들이 1억 원의 10배수인 10억 원(50여 명)의 대출\n",
      "text\n",
      "[일요서울｜파주 강동기 기자] 파주시는 아프리카돼지열병으로 인해 다수의 가을 축제와 행사가 취소돼 지역경제가 유례없는 침체기를 겪는 상황에서 소상공인들의 경영난 극복을 위해 다양한 지원책을 이끌어 내고 있다.15일 파주시는 대규모 점포인 ㈜신세계사이먼과 협약 체결을 통해 소상공인들을 위한 1억 원의 특례보증 출연금을 이끌어내어 대규모 점포와 지역 내 중소 상인과의 상생발전을 위한 토대를 마련했다. 협약과 동시에 담보능력이 없어 창업에 어려움을 겪거나 경영난을 겪고 있는 소상공인들이 1억 원의 10배수인 10억 원(50여 명)의 대출\n",
      "sentences\n",
      "['[ 일요 서울｜ 파주 강동기 기자] 파주시는 아프리카 돼지 열병으로 인해 다수의 가을 축제와 행사가 취소돼 지역경제가 유례없는 침체기를 겪는 상황에서 소 상공인들의 경영난 극복을 위해 다양한 지원책을 이끌어 내고 있다.15', '일 파주시는 대규모 점포인 ㈜ 신세계 사이먼과 협약 체결을 통해 소 상공인들을 위한 1억 원의 특례보증 출연금을 이끌어 내 어 대규모 점포와 지역 내 중소 상인과의 상생발전을 위한 토대를 마련했다.', '협약과 동시에 담보능력이 없어 창업에 어려움을 겪거나 경영난을 겪고 있는 소 상공인들이 1억 원의 10 배 수인 10억 원 (50 여 명) 의 대출']\n"
     ]
    },
    {
     "ename": "ValueError",
     "evalue": "empty vocabulary; perhaps the documents only contain stop words",
     "output_type": "error",
     "traceback": [
      "\u001b[1;31m---------------------------------------------------------------------------\u001b[0m",
      "\u001b[1;31mValueError\u001b[0m                                Traceback (most recent call last)",
      "\u001b[1;32m<ipython-input-26-153ba2b29a05>\u001b[0m in \u001b[0;36m<module>\u001b[1;34m\u001b[0m\n\u001b[0;32m      1\u001b[0m \u001b[0mprint\u001b[0m\u001b[1;33m(\u001b[0m\u001b[0mjson_body\u001b[0m\u001b[1;33m)\u001b[0m\u001b[1;33m\u001b[0m\u001b[1;33m\u001b[0m\u001b[0m\n\u001b[1;32m----> 2\u001b[1;33m \u001b[0mtr\u001b[0m \u001b[1;33m=\u001b[0m \u001b[0mTextRank\u001b[0m\u001b[1;33m(\u001b[0m\u001b[0mjson_body\u001b[0m\u001b[1;33m)\u001b[0m\u001b[1;33m\u001b[0m\u001b[1;33m\u001b[0m\u001b[0m\n\u001b[0m",
      "\u001b[1;32m<ipython-input-18-9b2527da5be8>\u001b[0m in \u001b[0;36m__init__\u001b[1;34m(self, text)\u001b[0m\n\u001b[0;32m     13\u001b[0m \u001b[1;33m\u001b[0m\u001b[0m\n\u001b[0;32m     14\u001b[0m         \u001b[0mself\u001b[0m\u001b[1;33m.\u001b[0m\u001b[0mgraph_matrix\u001b[0m \u001b[1;33m=\u001b[0m \u001b[0mGraphMatrix\u001b[0m\u001b[1;33m(\u001b[0m\u001b[1;33m)\u001b[0m\u001b[1;33m\u001b[0m\u001b[1;33m\u001b[0m\u001b[0m\n\u001b[1;32m---> 15\u001b[1;33m         \u001b[0mself\u001b[0m\u001b[1;33m.\u001b[0m\u001b[0msent_graph\u001b[0m \u001b[1;33m=\u001b[0m \u001b[0mself\u001b[0m\u001b[1;33m.\u001b[0m\u001b[0mgraph_matrix\u001b[0m\u001b[1;33m.\u001b[0m\u001b[0mbuild_sent_graph\u001b[0m\u001b[1;33m(\u001b[0m\u001b[0mself\u001b[0m\u001b[1;33m.\u001b[0m\u001b[0mnouns\u001b[0m\u001b[1;33m)\u001b[0m\u001b[1;33m\u001b[0m\u001b[1;33m\u001b[0m\u001b[0m\n\u001b[0m\u001b[0;32m     16\u001b[0m         \u001b[0mself\u001b[0m\u001b[1;33m.\u001b[0m\u001b[0mwords_graph\u001b[0m\u001b[1;33m,\u001b[0m \u001b[0mself\u001b[0m\u001b[1;33m.\u001b[0m\u001b[0midx2word\u001b[0m \u001b[1;33m=\u001b[0m \u001b[0mself\u001b[0m\u001b[1;33m.\u001b[0m\u001b[0mgraph_matrix\u001b[0m\u001b[1;33m.\u001b[0m\u001b[0mbuild_words_graph\u001b[0m\u001b[1;33m(\u001b[0m\u001b[0mself\u001b[0m\u001b[1;33m.\u001b[0m\u001b[0mnouns\u001b[0m\u001b[1;33m)\u001b[0m\u001b[1;33m\u001b[0m\u001b[1;33m\u001b[0m\u001b[0m\n\u001b[0;32m     17\u001b[0m \u001b[1;33m\u001b[0m\u001b[0m\n",
      "\u001b[1;32m<ipython-input-16-2d7479d77d1d>\u001b[0m in \u001b[0;36mbuild_sent_graph\u001b[1;34m(self, sentence)\u001b[0m\n\u001b[0;32m     64\u001b[0m \u001b[1;33m\u001b[0m\u001b[0m\n\u001b[0;32m     65\u001b[0m     \u001b[1;32mdef\u001b[0m \u001b[0mbuild_sent_graph\u001b[0m\u001b[1;33m(\u001b[0m\u001b[0mself\u001b[0m\u001b[1;33m,\u001b[0m \u001b[0msentence\u001b[0m\u001b[1;33m)\u001b[0m\u001b[1;33m:\u001b[0m\u001b[1;33m\u001b[0m\u001b[1;33m\u001b[0m\u001b[0m\n\u001b[1;32m---> 66\u001b[1;33m         \u001b[0mtfidf_mat\u001b[0m \u001b[1;33m=\u001b[0m \u001b[0mself\u001b[0m\u001b[1;33m.\u001b[0m\u001b[0mtfidf\u001b[0m\u001b[1;33m.\u001b[0m\u001b[0mfit_transform\u001b[0m\u001b[1;33m(\u001b[0m\u001b[0msentence\u001b[0m\u001b[1;33m)\u001b[0m\u001b[1;33m.\u001b[0m\u001b[0mtoarray\u001b[0m\u001b[1;33m(\u001b[0m\u001b[1;33m)\u001b[0m\u001b[1;33m\u001b[0m\u001b[1;33m\u001b[0m\u001b[0m\n\u001b[0m\u001b[0;32m     67\u001b[0m         \u001b[0mself\u001b[0m\u001b[1;33m.\u001b[0m\u001b[0mgraph_sentence\u001b[0m \u001b[1;33m=\u001b[0m \u001b[0mnp\u001b[0m\u001b[1;33m.\u001b[0m\u001b[0mdot\u001b[0m\u001b[1;33m(\u001b[0m\u001b[0mtfidf_mat\u001b[0m\u001b[1;33m,\u001b[0m \u001b[0mtfidf_mat\u001b[0m\u001b[1;33m.\u001b[0m\u001b[0mT\u001b[0m\u001b[1;33m)\u001b[0m\u001b[1;33m\u001b[0m\u001b[1;33m\u001b[0m\u001b[0m\n\u001b[0;32m     68\u001b[0m         \u001b[1;32mreturn\u001b[0m \u001b[0mself\u001b[0m\u001b[1;33m.\u001b[0m\u001b[0mgraph_sentence\u001b[0m\u001b[1;33m\u001b[0m\u001b[1;33m\u001b[0m\u001b[0m\n",
      "\u001b[1;32mc:\\python\\venv\\tensorflow\\lib\\site-packages\\sklearn\\feature_extraction\\text.py\u001b[0m in \u001b[0;36mfit_transform\u001b[1;34m(self, raw_documents, y)\u001b[0m\n\u001b[0;32m   1650\u001b[0m         \"\"\"\n\u001b[0;32m   1651\u001b[0m         \u001b[0mself\u001b[0m\u001b[1;33m.\u001b[0m\u001b[0m_check_params\u001b[0m\u001b[1;33m(\u001b[0m\u001b[1;33m)\u001b[0m\u001b[1;33m\u001b[0m\u001b[1;33m\u001b[0m\u001b[0m\n\u001b[1;32m-> 1652\u001b[1;33m         \u001b[0mX\u001b[0m \u001b[1;33m=\u001b[0m \u001b[0msuper\u001b[0m\u001b[1;33m(\u001b[0m\u001b[1;33m)\u001b[0m\u001b[1;33m.\u001b[0m\u001b[0mfit_transform\u001b[0m\u001b[1;33m(\u001b[0m\u001b[0mraw_documents\u001b[0m\u001b[1;33m)\u001b[0m\u001b[1;33m\u001b[0m\u001b[1;33m\u001b[0m\u001b[0m\n\u001b[0m\u001b[0;32m   1653\u001b[0m         \u001b[0mself\u001b[0m\u001b[1;33m.\u001b[0m\u001b[0m_tfidf\u001b[0m\u001b[1;33m.\u001b[0m\u001b[0mfit\u001b[0m\u001b[1;33m(\u001b[0m\u001b[0mX\u001b[0m\u001b[1;33m)\u001b[0m\u001b[1;33m\u001b[0m\u001b[1;33m\u001b[0m\u001b[0m\n\u001b[0;32m   1654\u001b[0m         \u001b[1;31m# X is already a transformed view of raw_documents so\u001b[0m\u001b[1;33m\u001b[0m\u001b[1;33m\u001b[0m\u001b[1;33m\u001b[0m\u001b[0m\n",
      "\u001b[1;32mc:\\python\\venv\\tensorflow\\lib\\site-packages\\sklearn\\feature_extraction\\text.py\u001b[0m in \u001b[0;36mfit_transform\u001b[1;34m(self, raw_documents, y)\u001b[0m\n\u001b[0;32m   1056\u001b[0m \u001b[1;33m\u001b[0m\u001b[0m\n\u001b[0;32m   1057\u001b[0m         vocabulary, X = self._count_vocab(raw_documents,\n\u001b[1;32m-> 1058\u001b[1;33m                                           self.fixed_vocabulary_)\n\u001b[0m\u001b[0;32m   1059\u001b[0m \u001b[1;33m\u001b[0m\u001b[0m\n\u001b[0;32m   1060\u001b[0m         \u001b[1;32mif\u001b[0m \u001b[0mself\u001b[0m\u001b[1;33m.\u001b[0m\u001b[0mbinary\u001b[0m\u001b[1;33m:\u001b[0m\u001b[1;33m\u001b[0m\u001b[1;33m\u001b[0m\u001b[0m\n",
      "\u001b[1;32mc:\\python\\venv\\tensorflow\\lib\\site-packages\\sklearn\\feature_extraction\\text.py\u001b[0m in \u001b[0;36m_count_vocab\u001b[1;34m(self, raw_documents, fixed_vocab)\u001b[0m\n\u001b[0;32m    987\u001b[0m             \u001b[0mvocabulary\u001b[0m \u001b[1;33m=\u001b[0m \u001b[0mdict\u001b[0m\u001b[1;33m(\u001b[0m\u001b[0mvocabulary\u001b[0m\u001b[1;33m)\u001b[0m\u001b[1;33m\u001b[0m\u001b[1;33m\u001b[0m\u001b[0m\n\u001b[0;32m    988\u001b[0m             \u001b[1;32mif\u001b[0m \u001b[1;32mnot\u001b[0m \u001b[0mvocabulary\u001b[0m\u001b[1;33m:\u001b[0m\u001b[1;33m\u001b[0m\u001b[1;33m\u001b[0m\u001b[0m\n\u001b[1;32m--> 989\u001b[1;33m                 raise ValueError(\"empty vocabulary; perhaps the documents only\"\n\u001b[0m\u001b[0;32m    990\u001b[0m                                  \" contain stop words\")\n\u001b[0;32m    991\u001b[0m \u001b[1;33m\u001b[0m\u001b[0m\n",
      "\u001b[1;31mValueError\u001b[0m: empty vocabulary; perhaps the documents only contain stop words"
     ]
    }
   ],
   "source": [
    "print(json_body)\n",
    "tr = TextRank(json_body)"
   ]
  },
  {
   "cell_type": "code",
   "execution_count": null,
   "metadata": {},
   "outputs": [],
   "source": []
  },
  {
   "cell_type": "code",
   "execution_count": null,
   "metadata": {},
   "outputs": [],
   "source": []
  }
 ],
 "metadata": {
  "kernelspec": {
   "display_name": "Python 3",
   "language": "python",
   "name": "python3"
  },
  "language_info": {
   "codemirror_mode": {
    "name": "ipython",
    "version": 3
   },
   "file_extension": ".py",
   "mimetype": "text/x-python",
   "name": "python",
   "nbconvert_exporter": "python",
   "pygments_lexer": "ipython3",
   "version": "3.6.8"
  }
 },
 "nbformat": 4,
 "nbformat_minor": 4
}
