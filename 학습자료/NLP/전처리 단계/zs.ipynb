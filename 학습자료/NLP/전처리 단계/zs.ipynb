{
 "cells": [
  {
   "cell_type": "code",
   "execution_count": null,
   "metadata": {},
   "outputs": [],
   "source": [
    "\"\"\"\n",
    "1. Json 등 형식에 맞는 파일 불러오기\n",
    "2. article text를 추출\n",
    "3. stop word 적용\n",
    "4. text rank 핵심 문장으로 요약\n",
    "5. //konply에서 명사만 추출 ex) okt.nouns(string)\n",
    "6. 키워드 추출 (ex: TF-IDF)\n",
    "7. 아니면 핵심 문장간 유사도 비교\n",
    "8. 합당한 문장에서 지명 대조\n",
    "9. 추출한 지명 따로 저장\n",
    "\"\"\""
   ]
  },
  {
   "cell_type": "code",
   "execution_count": 1,
   "metadata": {},
   "outputs": [
    {
     "name": "stdout",
     "output_type": "stream",
     "text": [
      "파주시, 아프리카돼지열병으로 인해 지역경제 유례없는 침체기\n",
      "[일요서울｜파주 강동기 기자] 파주시는 아프리카돼지열병으로 인해 다수의 가을 축제와 행사가 취소돼 지역경제가 유례없는 침체기를 겪는 상황에서 소상공인들의 경영난 극복을 위해 다양한 지원책을 이끌어 내고 있다.15일 파주시는 대규모 점포인 ㈜신세계사이먼과 협약 체결을 통해 소상공인들을 위한 1억 원의 특례보증 출연금을 이끌어내어 대규모 점포와 지역 내 중소 상인과의 상생발전을 위한 토대를 마련했다. 협약과 동시에 담보능력이 없어 창업에 어려움을 겪거나 경영난을 겪고 있는 소상공인들이 1억 원의 10배수인 10억 원(50여 명)의 대출\n",
      "2019-11-15T14:40:55+09:00\n"
     ]
    }
   ],
   "source": [
    "# 1. Json File 불러오기\n",
    "import json\n",
    "\n",
    "# with를 이용해 파일을 연다.\n",
    "# json 파일은 같은 폴더에 있다고 가정!\n",
    "\n",
    "with open('news_sample.json', encoding='UTF-8') as json_file:\n",
    "    json_data = json.load(json_file)\n",
    "\n",
    "    # 문자열\n",
    "    # key가 json_string인 문자열 가져오기\n",
    "    json_title = json_data[\"title\"]\n",
    "    print(json_title)\n",
    "    \n",
    "# 2. Article Text 추출\n",
    "\n",
    "    # 문자열 \n",
    "    # key가 json_string인 문자열 가져오기\n",
    "    json_body = json_data[\"body\"]\n",
    "    print(json_body)\n",
    "\n",
    "    # 문자열\n",
    "    # key가 json_string인 문자열 가져오기\n",
    "    json_date = json_data[\"date\"]\n",
    "    print(json_date)"
   ]
  },
  {
   "cell_type": "code",
   "execution_count": 2,
   "metadata": {},
   "outputs": [
    {
     "name": "stdout",
     "output_type": "stream",
     "text": [
      "json_body 원문\n",
      "[일요서울｜파주 강동기 기자] 파주시는 아프리카돼지열병으로 인해 다수의 가을 축제와 행사가 취소돼 지역경제가 유례없는 침체기를 겪는 상황에서 소상공인들의 경영난 극복을 위해 다양한 지원책을 이끌어 내고 있다.15일 파주시는 대규모 점포인 ㈜신세계사이먼과 협약 체결을 통해 소상공인들을 위한 1억 원의 특례보증 출연금을 이끌어내어 대규모 점포와 지역 내 중소 상인과의 상생발전을 위한 토대를 마련했다. 협약과 동시에 담보능력이 없어 창업에 어려움을 겪거나 경영난을 겪고 있는 소상공인들이 1억 원의 10배수인 10억 원(50여 명)의 대출\n",
      "\n",
      "특수문자 제거 json_body 이하 sentence\n",
      "[' 일요서울｜파주 강동기 기자  파주시는 아프리카돼지열병으로 인해 다수의 가을 축제와 행사가 취소돼 지역경제가 유례없는 침체기를 겪는 상황에서 소상공인들의 경영난 극복을 위해 다양한 지원책을 이끌어 내고 있다 15일 파주시는 대규모 점포인 ㈜신세계사이먼과 협약 체결을 통해 소상공인들을 위한 1억 원의 특례보증 출연금을 이끌어내어 대규모 점포와 지역 내 중소 상인과의 상생발전을 위한 토대를 마련했다  협약과 동시에 담보능력이 없어 창업에 어려움을 겪거나 경영난을 겪고 있는 소상공인들이 1억 원의 10배수인 10억 원 50여 명 의 대출']\n",
      "\n"
     ]
    }
   ],
   "source": [
    "# 3_1. 특수문자 제거\n",
    "\n",
    "# 소문자 변환\n",
    "# re 라이브러리로 특수문자 제거\n",
    "\n",
    "# 읽어온 데이터 확인 (json_body)\n",
    "print(\"json_body 원문\")\n",
    "print(json_body)\n",
    "print()\n",
    "sentence = []\n",
    "sentence.append(json_body.strip()) \n",
    "\n",
    "import re\n",
    "\n",
    "for i in range(len(sentence)):\n",
    "    sentence[i] = sentence[i].lower() # lower() : 모든 문자를 소문자로 변환\n",
    "    sentence[i] = re.sub(\"(<br\\s*/><br\\s*/>)|(\\-)|(\\/)\", ' ', sentence[i]) # 특수문자 제거\n",
    "    sentence[i] = re.sub(\"[.;:!\\'?,\\\"()|[\\]]\", ' ', sentence[i]) # 특수문자 제거\n",
    "\n",
    "print(\"특수문자 제거 json_body (sentence)\")\n",
    "print(sentence)\n",
    "print()"
   ]
  },
  {
   "cell_type": "code",
   "execution_count": 3,
   "metadata": {},
   "outputs": [],
   "source": [
    "# 3_2. 외부 Stop Word 리스트 불러오기 (stop word ranking 기반) \n",
    "\n",
    "# 불용어 처리 - stop_word 리스트 불러오기 & 전처리\n",
    "stop_words = []\n",
    "f = open(\"C:\\Python\\source\\stop_word.txt\", 'r', encoding='UTF-8')\n",
    "while True:\n",
    "    line = f.readline()\n",
    "    if not line: break\n",
    "    #print(line) #정상 출력 확인\n",
    "    stop_words.append(line.rstrip('\\n')) # 개행문자 제거 후 추가\n",
    "f.close()\n",
    "\n",
    "# 불러온 stop word 리스트 출력\n",
    "#print(stop_words) "
   ]
  },
  {
   "cell_type": "code",
   "execution_count": 4,
   "metadata": {},
   "outputs": [
    {
     "name": "stdout",
     "output_type": "stream",
     "text": [
      "stop word 필터링 결과\n",
      "[' 일요서울｜파주 강동기 기자  파주시는 아프리카돼지열병으로 인해 다수의 가을 축제와 행사가 취소돼 지역경제가 유례없는 침체기를 겪는 상황에서 소상공인들의 경영난 극복을 위해 다양한 지원책을 이끌어 내고 있다 15일 파주시는 대규모 점포인 ㈜신세계사이먼과 협약 체결을 통해 소상공인들을 위한 1억 원의 특례보증 출연금을 이끌어내어 대규모 점포와 지역 내 중소 상인과의 상생발전을 위한 토대를 마련했다  협약과 동시에 담보능력이 없어 창업에 어려움을 겪거나 경영난을 겪고 있는 소상공인들이 1억 원의 10배수인 10억 원 50여 명 의 대출']\n",
      "\n"
     ]
    }
   ],
   "source": [
    "# 3_3. 불러온 Stop Word 적용  \n",
    "from nltk.corpus import stopwords \n",
    "from nltk.tokenize import word_tokenize \n",
    "\n",
    "result = [] \n",
    "for w in sentence: \n",
    "    if w not in stop_words: \n",
    "        result.append(w) \n",
    "# 위의 4줄은 아래의 한 줄로 대체 가능\n",
    "# result=[word for word in word_tokens if not word in stop_words]\n",
    "\n",
    "# 불용어 처리 결과 출력\n",
    "print(\"stop word 필터링 결과 (result)\")\n",
    "print(result)\n",
    "print()"
   ]
  },
  {
   "cell_type": "code",
   "execution_count": null,
   "metadata": {},
   "outputs": [],
   "source": [
    "# 4. Text Rank로 문장 요약하기\n",
    "# 참고 링크 : https://github.com/wnsgml972/TextRank-Doc-Summary"
   ]
  }
 ],
 "metadata": {
  "kernelspec": {
   "display_name": "Python 3",
   "language": "python",
   "name": "python3"
  },
  "language_info": {
   "codemirror_mode": {
    "name": "ipython",
    "version": 3
   },
   "file_extension": ".py",
   "mimetype": "text/x-python",
   "name": "python",
   "nbconvert_exporter": "python",
   "pygments_lexer": "ipython3",
   "version": "3.6.8"
  }
 },
 "nbformat": 4,
 "nbformat_minor": 4
}
