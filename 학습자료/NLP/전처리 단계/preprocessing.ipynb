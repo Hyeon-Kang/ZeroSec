{
  "nbformat": 4,
  "nbformat_minor": 0,
  "metadata": {
    "colab": {
      "name": "Untitled2.ipynb",
      "provenance": [],
      "collapsed_sections": [],
      "include_colab_link": true
    },
    "kernelspec": {
      "name": "python3",
      "display_name": "Python 3"
    }
  },
  "cells": [
    {
      "cell_type": "markdown",
      "metadata": {
        "id": "view-in-github",
        "colab_type": "text"
      },
      "source": [
        "<a href=\"https://colab.research.google.com/github/Hyeon-Kang/ZeroSec/blob/master/preprocessing.ipynb\" target=\"_parent\"><img src=\"https://colab.research.google.com/assets/colab-badge.svg\" alt=\"Open In Colab\"/></a>"
      ]
    },
    {
      "cell_type": "code",
      "metadata": {
        "id": "-5VORhpByqQN",
        "colab_type": "code",
        "colab": {}
      },
      "source": [
        "# Data Load 경우에 맞게 수정\n",
        "\n",
        "import csv\n",
        "\n",
        "file = open (\"./IMDB_Dataset.csv\", \"r\", encoding='UTF-8')  # ./ 기본경로는 Script가 저장되는 장소\n",
        "rdr = csv.reader(file)\n",
        "\n",
        "sentence = []\n",
        "label = []\n",
        "\n",
        "for index, line in enumerate(rdr):\n",
        "    if index == 0:  # 첫 줄은 필요 없으므로 생략\n",
        "        continue\n",
        "    sentence.append(line[0].strip()) # sentence 리스트에 리뷰 내용 추가, strip() 함수는 문자열 양쪽의 공백 제거 (x)\n",
        "    label.append(line[1].strip())    # label 리스트에 긍정, 부정 추가 (y)"
      ],
      "execution_count": 0,
      "outputs": []
    },
    {
      "cell_type": "code",
      "metadata": {
        "id": "0XQZfMqxy47P",
        "colab_type": "code",
        "colab": {}
      },
      "source": [
        "# 읽어온 데이터 확인\n",
        "print(sentence[0])"
      ],
      "execution_count": 0,
      "outputs": []
    },
    {
      "cell_type": "code",
      "metadata": {
        "id": "qK4W2YvHyruY",
        "colab_type": "code",
        "colab": {}
      },
      "source": [
        "#전처리 단계\n",
        "# 소문자 변환\n",
        "# re 라이브러리로 특수문자 제거\n",
        "\n",
        "import re\n",
        "\n",
        "for i in range(len(sentence)):\n",
        "    sentence[i] = sentence[i].lower() # lower() : 모든 문자를 소문자로 변환\n",
        "    sentence[i] = re.sub(\"(<br\\s*/><br\\s*/>)|(\\-)|(\\/)\", ' ', sentence[i]) # 특수문자 제거\n",
        "    sentence[i] = re.sub(\"[.;:!\\'?,\\\"()|[\\]]\", ' ', sentence[i]) # 특수문자 제거"
      ],
      "execution_count": 0,
      "outputs": []
    }
  ]
}