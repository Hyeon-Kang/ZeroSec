{
  "nbformat": 4,
  "nbformat_minor": 0,
  "metadata": {
    "colab": {
      "name": "Untitled2.ipynb",
      "provenance": [],
      "collapsed_sections": [],
      "include_colab_link": true
    },
    "kernelspec": {
      "display_name": "Python 3",
      "language": "python",
      "name": "python3"
    },
    "language_info": {
      "codemirror_mode": {
        "name": "ipython",
        "version": 3
      },
      "file_extension": ".py",
      "mimetype": "text/x-python",
      "name": "python",
      "nbconvert_exporter": "python",
      "pygments_lexer": "ipython3",
      "version": "3.6.8"
    }
  },
  "cells": [
    {
      "cell_type": "markdown",
      "metadata": {
        "id": "view-in-github",
        "colab_type": "text"
      },
      "source": [
        "<a href=\"https://colab.research.google.com/github/Hyeon-Kang/ZeroSec/blob/master/%ED%95%99%EC%8A%B5%EC%9E%90%EB%A3%8C/NLP/%EC%A0%84%EC%B2%98%EB%A6%AC%20%EB%8B%A8%EA%B3%84/preprocessing.ipynb\" target=\"_parent\"><img src=\"https://colab.research.google.com/assets/colab-badge.svg\" alt=\"Open In Colab\"/></a>"
      ]
    },
    {
      "cell_type": "code",
      "metadata": {
        "id": "lP-ZmcmrECdS",
        "colab_type": "code",
        "colab": {},
        "outputId": "ce3b6c6c-adf4-43d4-c528-6cbdca58a8c9"
      },
      "source": [
        "import json\n",
        "\n",
        "# with를 이용해 파일을 연다.\n",
        "# json 파일은 같은 폴더에 있다고 가정!\n",
        "\n",
        "with open('news_sample.json', encoding='UTF-8') as json_file:\n",
        "    json_data = json.load(json_file)\n",
        "\n",
        "    # 문자열\n",
        "    # key가 title인 문자열 가져오기\n",
        "    json_title = json_data[\"title\"]\n",
        "    print(json_title)\n",
        "    \n",
        "    # 문자열\n",
        "    # key가 jbody인 문자열 가져오기\n",
        "    json_body = json_data[\"body\"]\n",
        "    print(json_body)\n",
        "\n",
        "    # 문자열\n",
        "    # key가 data인 문자열 가져오기\n",
        "    json_date = json_data[\"date\"]\n",
        "    print(json_date)"
      ],
      "execution_count": 0,
      "outputs": [
        {
          "output_type": "stream",
          "text": [
            "파주시, 아프리카돼지열병으로 인해 지역경제 유례없는 침체기\n",
            "[일요서울｜파주 강동기 기자] 파주시는 아프리카돼지열병으로 인해 다수의 가을 축제와 행사가 취소돼 지역경제가 유례없는 침체기를 겪는 상황에서 소상공인들의 경영난 극복을 위해 다양한 지원책을 이끌어 내고 있다.15일 파주시는 대규모 점포인 ㈜신세계사이먼과 협약 체결을 통해 소상공인들을 위한 1억 원의 특례보증 출연금을 이끌어내어 대규모 점포와 지역 내 중소 상인과의 상생발전을 위한 토대를 마련했다. 협약과 동시에 담보능력이 없어 창업에 어려움을 겪거나 경영난을 겪고 있는 소상공인들이 1억 원의 10배수인 10억 원(50여 명)의 대출\n",
            "2019-11-15T14:40:55+09:00\n"
          ],
          "name": "stdout"
        }
      ]
    },
    {
      "cell_type": "code",
      "metadata": {
        "colab_type": "code",
        "id": "0XQZfMqxy47P",
        "colab": {},
        "outputId": "abdb9690-ac9c-4312-d082-d874b4178138"
      },
      "source": [
        "# 읽어온 데이터 확인\n",
        "print(json_title)"
      ],
      "execution_count": 0,
      "outputs": [
        {
          "output_type": "stream",
          "text": [
            "파주시, 아프리카돼지열병으로 인해 지역경제 유례없는 침체기\n"
          ],
          "name": "stdout"
        }
      ]
    },
    {
      "cell_type": "code",
      "metadata": {
        "id": "uY7GYi3LECda",
        "colab_type": "code",
        "colab": {},
        "outputId": "f2ddd34c-e241-4108-8c2f-0de0a29db1cc"
      },
      "source": [
        "from konlpy.tag import Okt\n",
        "okt = Okt()\n",
        "\n",
        "# 단순한 토큰화\n",
        "title_token = okt.morphs(json_title)\n",
        "print(title_token)"
      ],
      "execution_count": 0,
      "outputs": [
        {
          "output_type": "stream",
          "text": [
            "['파주시', ',', '아프리카', '돼지', '열병', '으로', '인해', '지역', '경제', '유례', '없는', '침체', '기']\n"
          ],
          "name": "stdout"
        }
      ]
    },
    {
      "cell_type": "code",
      "metadata": {
        "id": "UN1v3u3RECdc",
        "colab_type": "code",
        "colab": {},
        "outputId": "48037233-da72-4e77-a74d-e92608104c7e"
      },
      "source": [
        "# POS tagging\n",
        "title_pos = okt.pos(json_body)\n",
        "print(title_pos)"
      ],
      "execution_count": 0,
      "outputs": [
        {
          "output_type": "stream",
          "text": [
            "[('[', 'Punctuation'), ('일요', 'Noun'), ('서울', 'Noun'), ('｜', 'Foreign'), ('파주', 'Noun'), ('강', 'Noun'), ('동기', 'Noun'), ('기자', 'Noun'), (']', 'Punctuation'), ('파주시', 'Noun'), ('는', 'Josa'), ('아프리카', 'Noun'), ('돼지', 'Noun'), ('열병', 'Noun'), ('으로', 'Josa'), ('인해', 'Adjective'), ('다수', 'Noun'), ('의', 'Josa'), ('가을', 'Noun'), ('축제', 'Noun'), ('와', 'Josa'), ('행사', 'Noun'), ('가', 'Josa'), ('취소', 'Noun'), ('돼', 'Verb'), ('지역', 'Noun'), ('경제', 'Noun'), ('가', 'Josa'), ('유례', 'Noun'), ('없는', 'Adjective'), ('침체', 'Noun'), ('기를', 'Verb'), ('겪는', 'Verb'), ('상황', 'Noun'), ('에서', 'Josa'), ('소상', 'Noun'), ('공인', 'Noun'), ('들', 'Suffix'), ('의', 'Josa'), ('경영', 'Noun'), ('난', 'Josa'), ('극복', 'Noun'), ('을', 'Josa'), ('위해', 'Noun'), ('다양한', 'Adjective'), ('지', 'Modifier'), ('원', 'Modifier'), ('책', 'Noun'), ('을', 'Josa'), ('이끌어', 'Verb'), ('내고', 'Verb'), ('있다', 'Adjective'), ('.', 'Punctuation'), ('15일', 'Number'), ('파주시', 'Noun'), ('는', 'Josa'), ('대규모', 'Noun'), ('점포', 'Noun'), ('인', 'Josa'), ('㈜', 'Foreign'), ('신세계', 'Noun'), ('사이먼', 'Noun'), ('과', 'Josa'), ('협약', 'Noun'), ('체결', 'Noun'), ('을', 'Josa'), ('통해', 'Noun'), ('소상', 'Noun'), ('공인', 'Noun'), ('들', 'Suffix'), ('을', 'Josa'), ('위', 'Noun'), ('한', 'Josa'), ('1억', 'Number'), ('원', 'Noun'), ('의', 'Josa'), ('특례', 'Noun'), ('보증', 'Noun'), ('출연', 'Noun'), ('금', 'Noun'), ('을', 'Josa'), ('이끌어내어', 'Verb'), ('대규모', 'Noun'), ('점포', 'Noun'), ('와', 'Josa'), ('지역', 'Noun'), ('내', 'Noun'), ('중소', 'Noun'), ('상인', 'Noun'), ('과의', 'Josa'), ('상생', 'Noun'), ('발전', 'Noun'), ('을', 'Josa'), ('위', 'Noun'), ('한', 'Josa'), ('토대', 'Noun'), ('를', 'Josa'), ('마련', 'Noun'), ('했다', 'Verb'), ('.', 'Punctuation'), ('협약', 'Noun'), ('과', 'Josa'), ('동시', 'Noun'), ('에', 'Josa'), ('담보', 'Noun'), ('능력', 'Noun'), ('이', 'Josa'), ('없어', 'Adjective'), ('창업', 'Noun'), ('에', 'Josa'), ('어려움', 'Noun'), ('을', 'Josa'), ('겪거나', 'Verb'), ('경', 'Modifier'), ('영', 'Modifier'), ('난', 'Noun'), ('을', 'Josa'), ('겪고', 'Verb'), ('있는', 'Adjective'), ('소', 'Modifier'), ('상공', 'Noun'), ('인들', 'Josa'), ('이', 'Determiner'), ('1억', 'Number'), ('원', 'Noun'), ('의', 'Josa'), ('10', 'Number'), ('배수', 'Noun'), ('인', 'Josa'), ('10억', 'Number'), ('원', 'Noun'), ('(', 'Punctuation'), ('50', 'Number'), ('여', 'Noun'), ('명', 'Noun'), (')', 'Punctuation'), ('의', 'Noun'), ('대출', 'Noun')]\n"
          ],
          "name": "stdout"
        }
      ]
    },
    {
      "cell_type": "code",
      "metadata": {
        "id": "VWodK0ZjF--7",
        "colab_type": "code",
        "colab": {}
      },
      "source": [
        "# Stop word 적용\n",
        "# 참조 링크 : https://wikidocs.net/22530\n",
        "from nltk.corpus import stopwords \n",
        "from nltk.tokenize import word_tokenize \n",
        "\n"
      ],
      "execution_count": 0,
      "outputs": []
    },
    {
      "cell_type": "code",
      "metadata": {
        "colab_type": "code",
        "id": "qK4W2YvHyruY",
        "colab": {}
      },
      "source": [
        "#전처리 단계\n",
        "# 소문자 변환\n",
        "# re 라이브러리로 특수문자 제거\n",
        "\n",
        "import re\n",
        "\n",
        "for i in range(len(sentence)):\n",
        "    sentence[i] = sentence[i].lower() # lower() : 모든 문자를 소문자로 변환\n",
        "    sentence[i] = re.sub(\"(<br\\s*/><br\\s*/>)|(\\-)|(\\/)\", ' ', sentence[i]) # 특수문자 제거\n",
        "    sentence[i] = re.sub(\"[.;:!\\'?,\\\"()|[\\]]\", ' ', sentence[i]) # 특수문자 제거"
      ],
      "execution_count": 0,
      "outputs": []
    }
  ]
}