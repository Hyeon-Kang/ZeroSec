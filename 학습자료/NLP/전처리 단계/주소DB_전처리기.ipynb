{
 "cells": [
  {
   "cell_type": "code",
   "execution_count": 1,
   "metadata": {},
   "outputs": [
    {
     "name": "stdout",
     "output_type": "stream",
     "text": [
      "['4211010100100010005011491', '1', '4211010100', '강원도', '춘천시', '봉의동', '', '0', '1', '5', '1\\n']\n",
      "춘천시\n",
      "\n",
      "정렬된 지명 리스트\n",
      "양구군\n",
      "화천군\n",
      "삼척시\n",
      "홍천군\n",
      "정선군\n",
      "원주시\n",
      "춘천시\n",
      "횡성군\n",
      "고성군\n",
      "철원군\n",
      "태백시\n",
      "속초시\n",
      "평창군\n",
      "인제군\n",
      "양양군\n",
      "동해시\n",
      "강릉시\n",
      "영월군\n"
     ]
    }
   ],
   "source": [
    "# 주소db 정리하기, 파일 작성 후 도명만 앞에 추가해주세요! ex: 파일 맨 앞에 강원도 항목 추가\n",
    "address_src = [] # 불러온 주소 리스트 저장\n",
    "address_parse = [] # 불러온 주소 리스트를 파싱한 결과 저장\n",
    "address_result = [] # 최종 주소 set 저장 (지명만 저장)\n",
    "file = open(\"C:\\Python\\\\source\\\\adress_db\\\\지번_강원도.txt\", 'r', encoding='cp949') #cp949 = ANSI 인코딩\n",
    "while True:\n",
    "    ad_line = file.readline()\n",
    "    if not ad_line: break\n",
    "    address_src.append(ad_line)\n",
    "\n",
    "for i in range(len(address_src)):\n",
    "    address_parse.append(address_src[i].split('|'))\n",
    "    #print(ad_in)\n",
    "    \n",
    "file.close()\n",
    "#parsing 데이터 검사\n",
    "print(address_parse[0])\n",
    "\n",
    "# address_result에 저장\n",
    "for r in range(len(address_parse)):\n",
    "    address_result.append(address_parse[r][4])\n",
    "    \n",
    "# 출력 확인\n",
    "print(address_result[3])\n",
    "\n",
    "# 중복 제거\n",
    "address_result = list(set(address_result))\n",
    "\n",
    "print()\n",
    "print(\"정렬된 지명 리스트\")\n",
    "for i in range(len(address_result)):\n",
    "    print(address_result[i])\n",
    "    \n",
    "# 얻은 지명 리스트를 파일로 작성하기\n",
    "fw = open('C:\\Python\\\\source\\\\adress_db\\\\강원도list.txt', mode='wt', encoding = 'utf-8')\n",
    "for i in range(len(address_result)):\n",
    "    fw.write(address_result[i] + ' ')\n",
    "fw.close()"
   ]
  },
  {
   "cell_type": "code",
   "execution_count": null,
   "metadata": {},
   "outputs": [],
   "source": []
  }
 ],
 "metadata": {
  "kernelspec": {
   "display_name": "Python 3",
   "language": "python",
   "name": "python3"
  },
  "language_info": {
   "codemirror_mode": {
    "name": "ipython",
    "version": 3
   },
   "file_extension": ".py",
   "mimetype": "text/x-python",
   "name": "python",
   "nbconvert_exporter": "python",
   "pygments_lexer": "ipython3",
   "version": "3.6.8"
  }
 },
 "nbformat": 4,
 "nbformat_minor": 4
}
